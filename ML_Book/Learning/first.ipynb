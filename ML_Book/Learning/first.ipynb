{
 "cells": [
  {
   "cell_type": "code",
   "execution_count": 1,
   "metadata": {},
   "outputs": [
    {
     "name": "stdout",
     "output_type": "stream",
     "text": [
      "9\n"
     ]
    }
   ],
   "source": [
    "def square(x):\n",
    "    return x**2\n",
    "\n",
    "result = square(3)\n",
    "print(result)"
   ]
  },
  {
   "cell_type": "code",
   "execution_count": 2,
   "metadata": {},
   "outputs": [],
   "source": [
    "def prepare_country_stats(oecd_bli, gdp_per_capita):\n",
    "    oecd_bli = oecd_bli[oecd_bli[\"INEQUALITY\"]==\"TOT\"]\n",
    "    oecd_bli = oecd_bli.pivot(index=\"Country\", columns=\"Indicator\", values=\"Value\")\n",
    "    gdp_per_capita.rename(columns={\"2015\": \"GDP per capita\"}, inplace=True)\n",
    "    gdp_per_capita.set_index(\"Country\", inplace=True)\n",
    "    full_country_stats = pd.merge(left=oecd_bli, right=gdp_per_capita,\n",
    "                                  left_index=True, right_index=True)\n",
    "    full_country_stats.sort_values(by=\"GDP per capita\", inplace=True)\n",
    "    remove_indices = [0, 1, 6, 8, 33, 34, 35]\n",
    "    keep_indices = list(set(range(36)) - set(remove_indices))\n",
    "    return full_country_stats[[\"GDP per capita\", 'Life satisfaction']].iloc[keep_indices]"
   ]
  },
  {
   "cell_type": "code",
   "execution_count": 3,
   "metadata": {},
   "outputs": [],
   "source": [
    "# To plot pretty figures directly within Jupyter\n",
    "%matplotlib inline\n",
    "import matplotlib as mpl\n",
    "mpl.rc('axes', labelsize=14)\n",
    "mpl.rc('xtick', labelsize=12)\n",
    "mpl.rc('ytick', labelsize=12)"
   ]
  },
  {
   "cell_type": "code",
   "execution_count": 4,
   "metadata": {},
   "outputs": [],
   "source": [
    "# Code example\n",
    "import matplotlib.pyplot as plt;\n",
    "import numpy as np;\n",
    "import pandas as pd;\n",
    "import sklearn.linear_model\n",
    "\n",
    "# Load the data\n",
    "oecd_bli = pd.read_csv(\"../datasets/lifesat/oecd_bli_2015.csv\", thousands=',')\n",
    "# print(oecd_bli.head())\n",
    "# print(oecd_bli[['Country','Value']])\n",
    "\n",
    "# gdp_per_capita = \n",
    "gdp_per_capita = pd.read_csv(\"../datasets/lifesat/gdp_per_capita.csv\", encoding='latin1', thousands=',', na_values=\"n/a\")\n",
    "# print(gdp_per_capita.head())"
   ]
  },
  {
   "cell_type": "code",
   "execution_count": 7,
   "metadata": {},
   "outputs": [
    {
     "ename": "KeyError",
     "evalue": "\"None of ['Country'] are in the columns\"",
     "output_type": "error",
     "traceback": [
      "\u001b[0;31m---------------------------------------------------------------------------\u001b[0m",
      "\u001b[0;31mKeyError\u001b[0m                                  Traceback (most recent call last)",
      "\u001b[1;32m/home/savan/code/learning/Machine_Learning/ML_Book/Learning/first.ipynb Cell 5\u001b[0m in \u001b[0;36m<cell line: 2>\u001b[0;34m()\u001b[0m\n\u001b[1;32m      <a href='vscode-notebook-cell:/home/savan/code/learning/Machine_Learning/ML_Book/Learning/first.ipynb#ch0000004?line=0'>1</a>\u001b[0m \u001b[39m# Prepare the data\u001b[39;00m\n\u001b[0;32m----> <a href='vscode-notebook-cell:/home/savan/code/learning/Machine_Learning/ML_Book/Learning/first.ipynb#ch0000004?line=1'>2</a>\u001b[0m country_stats \u001b[39m=\u001b[39m prepare_country_stats(oecd_bli, gdp_per_capita)\n\u001b[1;32m      <a href='vscode-notebook-cell:/home/savan/code/learning/Machine_Learning/ML_Book/Learning/first.ipynb#ch0000004?line=2'>3</a>\u001b[0m X \u001b[39m=\u001b[39m np\u001b[39m.\u001b[39mc_[country_stats[\u001b[39m\"\u001b[39m\u001b[39mGDP per capita\u001b[39m\u001b[39m\"\u001b[39m]]\n\u001b[1;32m      <a href='vscode-notebook-cell:/home/savan/code/learning/Machine_Learning/ML_Book/Learning/first.ipynb#ch0000004?line=3'>4</a>\u001b[0m y \u001b[39m=\u001b[39m np\u001b[39m.\u001b[39mc_[country_stats[\u001b[39m\"\u001b[39m\u001b[39mLife satisfaction\u001b[39m\u001b[39m\"\u001b[39m]]\n",
      "\u001b[1;32m/home/savan/code/learning/Machine_Learning/ML_Book/Learning/first.ipynb Cell 5\u001b[0m in \u001b[0;36mprepare_country_stats\u001b[0;34m(oecd_bli, gdp_per_capita)\u001b[0m\n\u001b[1;32m      <a href='vscode-notebook-cell:/home/savan/code/learning/Machine_Learning/ML_Book/Learning/first.ipynb#ch0000004?line=2'>3</a>\u001b[0m oecd_bli \u001b[39m=\u001b[39m oecd_bli\u001b[39m.\u001b[39mpivot(index\u001b[39m=\u001b[39m\u001b[39m\"\u001b[39m\u001b[39mCountry\u001b[39m\u001b[39m\"\u001b[39m, columns\u001b[39m=\u001b[39m\u001b[39m\"\u001b[39m\u001b[39mIndicator\u001b[39m\u001b[39m\"\u001b[39m, values\u001b[39m=\u001b[39m\u001b[39m\"\u001b[39m\u001b[39mValue\u001b[39m\u001b[39m\"\u001b[39m)\n\u001b[1;32m      <a href='vscode-notebook-cell:/home/savan/code/learning/Machine_Learning/ML_Book/Learning/first.ipynb#ch0000004?line=3'>4</a>\u001b[0m gdp_per_capita\u001b[39m.\u001b[39mrename(columns\u001b[39m=\u001b[39m{\u001b[39m\"\u001b[39m\u001b[39m2015\u001b[39m\u001b[39m\"\u001b[39m: \u001b[39m\"\u001b[39m\u001b[39mGDP per capita\u001b[39m\u001b[39m\"\u001b[39m}, inplace\u001b[39m=\u001b[39m\u001b[39mTrue\u001b[39;00m)\n\u001b[0;32m----> <a href='vscode-notebook-cell:/home/savan/code/learning/Machine_Learning/ML_Book/Learning/first.ipynb#ch0000004?line=4'>5</a>\u001b[0m gdp_per_capita\u001b[39m.\u001b[39;49mset_index(\u001b[39m\"\u001b[39;49m\u001b[39mCountry\u001b[39;49m\u001b[39m\"\u001b[39;49m, inplace\u001b[39m=\u001b[39;49m\u001b[39mTrue\u001b[39;49;00m)\n\u001b[1;32m      <a href='vscode-notebook-cell:/home/savan/code/learning/Machine_Learning/ML_Book/Learning/first.ipynb#ch0000004?line=5'>6</a>\u001b[0m full_country_stats \u001b[39m=\u001b[39m pd\u001b[39m.\u001b[39mmerge(left\u001b[39m=\u001b[39moecd_bli, right\u001b[39m=\u001b[39mgdp_per_capita,\n\u001b[1;32m      <a href='vscode-notebook-cell:/home/savan/code/learning/Machine_Learning/ML_Book/Learning/first.ipynb#ch0000004?line=6'>7</a>\u001b[0m                               left_index\u001b[39m=\u001b[39m\u001b[39mTrue\u001b[39;00m, right_index\u001b[39m=\u001b[39m\u001b[39mTrue\u001b[39;00m)\n\u001b[1;32m      <a href='vscode-notebook-cell:/home/savan/code/learning/Machine_Learning/ML_Book/Learning/first.ipynb#ch0000004?line=7'>8</a>\u001b[0m full_country_stats\u001b[39m.\u001b[39msort_values(by\u001b[39m=\u001b[39m\u001b[39m\"\u001b[39m\u001b[39mGDP per capita\u001b[39m\u001b[39m\"\u001b[39m, inplace\u001b[39m=\u001b[39m\u001b[39mTrue\u001b[39;00m)\n",
      "File \u001b[0;32m~/.local/lib/python3.10/site-packages/pandas/util/_decorators.py:311\u001b[0m, in \u001b[0;36mdeprecate_nonkeyword_arguments.<locals>.decorate.<locals>.wrapper\u001b[0;34m(*args, **kwargs)\u001b[0m\n\u001b[1;32m    305\u001b[0m \u001b[39mif\u001b[39;00m \u001b[39mlen\u001b[39m(args) \u001b[39m>\u001b[39m num_allow_args:\n\u001b[1;32m    306\u001b[0m     warnings\u001b[39m.\u001b[39mwarn(\n\u001b[1;32m    307\u001b[0m         msg\u001b[39m.\u001b[39mformat(arguments\u001b[39m=\u001b[39marguments),\n\u001b[1;32m    308\u001b[0m         \u001b[39mFutureWarning\u001b[39;00m,\n\u001b[1;32m    309\u001b[0m         stacklevel\u001b[39m=\u001b[39mstacklevel,\n\u001b[1;32m    310\u001b[0m     )\n\u001b[0;32m--> 311\u001b[0m \u001b[39mreturn\u001b[39;00m func(\u001b[39m*\u001b[39;49margs, \u001b[39m*\u001b[39;49m\u001b[39m*\u001b[39;49mkwargs)\n",
      "File \u001b[0;32m~/.local/lib/python3.10/site-packages/pandas/core/frame.py:5500\u001b[0m, in \u001b[0;36mDataFrame.set_index\u001b[0;34m(self, keys, drop, append, inplace, verify_integrity)\u001b[0m\n\u001b[1;32m   5497\u001b[0m                 missing\u001b[39m.\u001b[39mappend(col)\n\u001b[1;32m   5499\u001b[0m \u001b[39mif\u001b[39;00m missing:\n\u001b[0;32m-> 5500\u001b[0m     \u001b[39mraise\u001b[39;00m \u001b[39mKeyError\u001b[39;00m(\u001b[39mf\u001b[39m\u001b[39m\"\u001b[39m\u001b[39mNone of \u001b[39m\u001b[39m{\u001b[39;00mmissing\u001b[39m}\u001b[39;00m\u001b[39m are in the columns\u001b[39m\u001b[39m\"\u001b[39m)\n\u001b[1;32m   5502\u001b[0m \u001b[39mif\u001b[39;00m inplace:\n\u001b[1;32m   5503\u001b[0m     frame \u001b[39m=\u001b[39m \u001b[39mself\u001b[39m\n",
      "\u001b[0;31mKeyError\u001b[0m: \"None of ['Country'] are in the columns\""
     ]
    }
   ],
   "source": [
    "# Prepare the data\n",
    "country_stats = prepare_country_stats(oecd_bli, gdp_per_capita)\n",
    "X = np.c_[country_stats[\"GDP per capita\"]]\n",
    "y = np.c_[country_stats[\"Life satisfaction\"]]"
   ]
  },
  {
   "cell_type": "code",
   "execution_count": 6,
   "metadata": {},
   "outputs": [
    {
     "data": {
      "image/png": "[encoded data removed]",
      "text/plain": [
       "<Figure size 432x288 with 1 Axes>"
      ]
     },
     "metadata": {
      "needs_background": "light"
     },
     "output_type": "display_data"
    }
   ],
   "source": [
    "#visualize the data\n",
    "country_stats.plot(kind='scatter', x=\"GDP per capita\", y=\"Life satisfaction\")\n",
    "plt.show()"
   ]
  },
  {
   "cell_type": "code",
   "execution_count": 57,
   "metadata": {},
   "outputs": [
    {
     "name": "stdout",
     "output_type": "stream",
     "text": [
      "[['See notes for:  Gross domestic product']\n",
      " ['See notes for:  Gross domestic product']\n",
      " ['See notes for:  Gross domestic product']\n",
      " ['See notes for:  Gross domestic product']\n",
      " ['See notes for:  Gross domestic product']\n",
      " ['See notes for:  Gross domestic product']\n",
      " ['See notes for:  Gross domestic product']\n",
      " ['See notes for:  Gross domestic product']\n",
      " ['See notes for:  Gross domestic product']\n",
      " ['See notes for:  Gross domestic product']\n",
      " ['See notes for:  Gross domestic product']\n",
      " ['See notes for:  Gross domestic product']\n",
      " ['See notes for:  Gross domestic product']\n",
      " ['See notes for:  Gross domestic product']\n",
      " ['See notes for:  Gross domestic product']\n",
      " ['See notes for:  Gross domestic product']\n",
      " ['See notes for:  Gross domestic product']\n",
      " ['See notes for:  Gross domestic product']\n",
      " ['See notes for:  Gross domestic product']\n",
      " ['See notes for:  Gross domestic product']\n",
      " ['See notes for:  Gross domestic product']\n",
      " ['See notes for:  Gross domestic product']\n",
      " ['See notes for:  Gross domestic product']\n",
      " ['See notes for:  Gross domestic product']\n",
      " ['See notes for:  Gross domestic product']\n",
      " ['See notes for:  Gross domestic product']\n",
      " ['See notes for:  Gross domestic product']\n",
      " ['See notes for:  Gross domestic product']\n",
      " ['See notes for:  Gross domestic product']]\n",
      "[[6.7]\n",
      " [7.3]\n",
      " [7.3]\n",
      " [7.4]\n",
      " [5.8]\n",
      " [6.1]\n",
      " [5.7]\n",
      " [6.5]\n",
      " [7.2]\n",
      " [7.5]\n",
      " [5.6]\n",
      " [6. ]\n",
      " [5.9]\n",
      " [6. ]\n",
      " [7.4]\n",
      " [6.9]\n",
      " [6.9]\n",
      " [7. ]\n",
      " [7.3]\n",
      " [6.7]\n",
      " [6.5]\n",
      " [7.5]\n",
      " [5.6]\n",
      " [7.4]\n",
      " [6.5]\n",
      " [7. ]\n",
      " [4.8]\n",
      " [4.9]\n",
      " [7.5]]\n"
     ]
    }
   ],
   "source": [
    "print(X)\n",
    "print(y)"
   ]
  }
 ],
 "metadata": {
  "kernelspec": {
   "display_name": "Python 3.10.4 64-bit",
   "language": "python",
   "name": "python3"
  },
  "language_info": {
   "codemirror_mode": {
    "name": "ipython",
    "version": 3
   },
   "file_extension": ".py",
   "mimetype": "text/x-python",
   "name": "python",
   "nbconvert_exporter": "python",
   "pygments_lexer": "ipython3",
   "version": "3.10.4"
  },
  "orig_nbformat": 4,
  "vscode": {
   "interpreter": {
    "hash": "916dbcbb3f70747c44a77c7bcd40155683ae19c65e1c03b4aa3499c5328201f1"
   }
  }
 },
 "nbformat": 4,
 "nbformat_minor": 2
}
