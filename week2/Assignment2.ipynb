{
 "cells": [
  {
   "cell_type": "markdown",
   "metadata": {},
   "source": [
    "# Assignment 2\n",
    "\n",
    "In this assignment you'll explore the relationship between model complexity and generalization performance, by adjusting key parameters of various supervised learning models. Part 1 of this assignment will look at regression and Part 2 will look at classification.\n",
    "\n",
    "## Part 1 - Regression"
   ]
  },
  {
   "cell_type": "markdown",
   "metadata": {},
   "source": [
    "First, run the following block to set up the variables needed for later sections."
   ]
  },
  {
   "cell_type": "code",
   "execution_count": 2,
   "metadata": {},
   "outputs": [
    {
     "data": {
      "image/png": "[encoded data removed]",
      "text/plain": [
       "<Figure size 432x288 with 1 Axes>"
      ]
     },
     "metadata": {
      "needs_background": "light"
     },
     "output_type": "display_data"
    }
   ],
   "source": [
    "import numpy as np\n",
    "import pandas as pd\n",
    "from sklearn.model_selection import train_test_split\n",
    "\n",
    "np.random.seed(0)\n",
    "n = 15\n",
    "x = np.linspace(0, 10, n)+ np.random.randn(n)/5\n",
    "y = np.sin(x)+x/6 + np.random.randn(n)/10\n",
    "\n",
    "X_train, X_test, y_train, y_test = train_test_split(x, y, random_state=0)\n",
    "\n",
    "def part1_scatter():\n",
    "    import matplotlib.pyplot as plt\n",
    "    %matplotlib inline\n",
    "    plt.figure()\n",
    "    plt.scatter(X_train, y_train, label='training data')\n",
    "    plt.scatter(X_test, y_test, label= 'testing data')\n",
    "\n",
    "part1_scatter()\n"
   ]
  },
  {
   "cell_type": "code",
   "execution_count": 2,
   "metadata": {},
   "outputs": [
    {
     "data": {
      "text/plain": [
       "<matplotlib.legend.Legend at 0x7f36f541c580>"
      ]
     },
     "execution_count": 2,
     "metadata": {},
     "output_type": "execute_result"
    },
    {
     "data": {
      "image/png": "[encoded data removed]",
      "text/plain": [
       "<Figure size 720x360 with 1 Axes>"
      ]
     },
     "metadata": {
      "needs_background": "light"
     },
     "output_type": "display_data"
    }
   ],
   "source": [
    "from sklearn.linear_model import LinearRegression\n",
    "from sklearn.preprocessing import PolynomialFeatures\n",
    "\n",
    "# apply polynomial features\n",
    "X_train_1 = X_train[:, np.newaxis]\n",
    "X_test_1 = X_test[:, np.newaxis]\n",
    "\n",
    "poly = PolynomialFeatures(degree=4)\n",
    "X_train_poly = poly.fit_transform(X_train_1)\n",
    "X_test_poly = poly.fit(X_test_1)\n",
    "\n",
    "#fit poly data into linear regression\n",
    "linReg = LinearRegression()\n",
    "linReg.fit(X_train_poly, y_train)\n",
    "\n",
    "#generate 100 sample for result\n",
    "samp = np.linspace(0,10,100)[:, np.newaxis]\n",
    "samp_poly=poly.transform(samp)\n",
    "samp_pred = linReg.predict(samp_poly)\n",
    "\n",
    "\n",
    "#plot the graph\n",
    "import matplotlib.pyplot as plt\n",
    "%matplotlib inline\n",
    "plt.figure(figsize=(10,5))\n",
    "plt.plot(X_train, y_train, 'o', label='training data')\n",
    "plt.plot(X_test, y_test, 'o', label='testing data')\n",
    "plt.plot(np.linspace(0,10,100), samp_pred, label='degree 3')\n",
    "plt.legend(loc=4)\n"
   ]
  },
  {
   "cell_type": "code",
   "execution_count": 3,
   "metadata": {},
   "outputs": [],
   "source": [
    "def answer_one():\n",
    "    from sklearn.linear_model import LinearRegression\n",
    "    from sklearn.preprocessing import PolynomialFeatures\n",
    "\n",
    "    # transform the degree of input\n",
    "    X_train_1 = X_train[:, np.newaxis]\n",
    "    X_test_1 = X_test[:, np.newaxis]\n",
    "        \n",
    "    result = [];\n",
    "\n",
    "    # Your code here\n",
    "    for degree in [1,3,6,9]:\n",
    "        poly = PolynomialFeatures(degree=degree)\n",
    "        X_train_poly = poly.fit_transform(X_train_1)\n",
    "        X_test_poly = poly.transform(X_test_1)\n",
    "\n",
    "        # fit the linear regression on data\n",
    "        linReg = LinearRegression()\n",
    "        linReg.fit(X_train_poly, y_train)\n",
    "\n",
    "        #generate 100 sample for result\n",
    "        samp = np.linspace(0,10,100)[:, np.newaxis]\n",
    "        samp_poly=poly.transform(samp)\n",
    "        samp_pred = linReg.predict(samp_poly)\n",
    "\n",
    "        result.append(samp_pred)\n",
    "         \n",
    "    result_array = np.array(result)\n",
    "    return result_array\n",
    "\n",
    "# answer_one()\n",
    "    "
   ]
  },
  {
   "cell_type": "markdown",
   "metadata": {},
   "source": [
    "### Question 2\n",
    "\n",
    "Write a function that fits a polynomial LinearRegression model on the training data `X_train` for degrees 0 through 9. For each model compute the $R^2$ (coefficient of determination) regression score on the training data as well as the the test data, and return both of these arrays in a tuple.\n",
    "\n",
    "*This function should return one tuple of numpy arrays `(r2_train, r2_test)`. Both arrays should have shape `(10,)`*"
   ]
  },
  {
   "cell_type": "code",
   "execution_count": 9,
   "metadata": {},
   "outputs": [
    {
     "name": "stdout",
     "output_type": "stream",
     "text": [
      "0.9194194471769332\n",
      "0.7300494281870692\n"
     ]
    }
   ],
   "source": [
    "#lets find the score for 4\n",
    "from sklearn.metrics import r2_score\n",
    "from sklearn.linear_model import LinearRegression\n",
    "from sklearn.preprocessing import PolynomialFeatures\n",
    "\n",
    "#prepare the data X_train\n",
    "X_train_2 = X_train[:, np.newaxis]\n",
    "X_test_2 = X_test[:, np.newaxis]\n",
    "\n",
    "# polynomial features\n",
    "poly = PolynomialFeatures(degree=4)\n",
    "X_train_poly_2 = poly.fit_transform(X_train_2)\n",
    "X_test_poly_2 = poly.transform(X_test_2)\n",
    "\n",
    "#Linear model\n",
    "linModel = LinearRegression()\n",
    "linModel.fit(X_train_poly_2, y_train)\n",
    "\n",
    "\n",
    "r2_train = r2_score(y_train, linModel.predict(X_train_poly_2))\n",
    "print(r2_train)\n",
    "\n",
    "r2_test = r2_score(y_test, linModel.predict(X_test_poly_2))\n",
    "print(r2_test)"
   ]
  },
  {
   "cell_type": "code",
   "execution_count": 13,
   "metadata": {},
   "outputs": [
    {
     "name": "stdout",
     "output_type": "stream",
     "text": [
      "(10,)\n"
     ]
    }
   ],
   "source": [
    "def answer_two():\n",
    "    from sklearn.linear_model import LinearRegression\n",
    "    from sklearn.preprocessing import PolynomialFeatures\n",
    "    from sklearn.metrics import r2_score\n",
    "\n",
    "    # reshape the X\n",
    "    X_train_2 = X_train[:, np.newaxis]\n",
    "    X_test_2 = X_test[:, np.newaxis]\n",
    "\n",
    "    #result\n",
    "    result_train = []\n",
    "    result_test = []\n",
    "\n",
    "    # Your code here\n",
    "    for i in range(0,10):\n",
    "        # polynomial features\n",
    "        poly = PolynomialFeatures(degree=i)\n",
    "        X_train_poly_2 = poly.fit_transform(X_train_2)\n",
    "        X_test_poly_2 = poly.transform(X_test_2)\n",
    "\n",
    "        #Linear model\n",
    "        linModel = LinearRegression()\n",
    "        linModel.fit(X_train_poly_2, y_train)\n",
    "\n",
    "        r2_train = r2_score(y_train, linModel.predict(X_train_poly_2))\n",
    "        r2_test = r2_score(y_test, linModel.predict(X_test_poly_2))\n",
    "        \n",
    "        result_train.append(r2_train)\n",
    "        result_test.append(r2_test)\n",
    "    \n",
    "    return (np.array(result_train), np.array(result_test))\n",
    "\n",
    "print(answer_two()[0].shape)"
   ]
  },
  {
   "cell_type": "markdown",
   "metadata": {},
   "source": [
    "### Question 3\n",
    "\n",
    "Based on the $R^2$ scores from question 2 (degree levels 0 through 9), what degree level corresponds to a model that is underfitting? What degree level corresponds to a model that is overfitting? What choice of degree level would provide a model with good generalization performance on this dataset? \n",
    "\n",
    "Hint: Try plotting the $R^2$ scores from question 2 to visualize the relationship between degree level and $R^2$. Remember to comment out the import matplotlib line before submission.\n",
    "\n",
    "*This function should return one tuple with the degree values in this order: `(Underfitting, Overfitting, Good_Generalization)`. There might be multiple correct solutions, however, you only need to return one possible solution, for example, (1,2,3).* "
   ]
  },
  {
   "cell_type": "code",
   "execution_count": 22,
   "metadata": {},
   "outputs": [
    {
     "data": {
      "text/plain": [
       "<matplotlib.legend.Legend at 0x7f36f53aa020>"
      ]
     },
     "execution_count": 22,
     "metadata": {},
     "output_type": "execute_result"
    },
    {
     "data": {
      "image/png": "[encoded data removed]",
      "text/plain": [
       "<Figure size 432x288 with 1 Axes>"
      ]
     },
     "metadata": {
      "needs_background": "light"
     },
     "output_type": "display_data"
    }
   ],
   "source": [
    "# try to draw the plot from question 2\n",
    "import matplotlib.pyplot as plt\n",
    "%matplotlib inline\n",
    "\n",
    "ans_two = answer_two()\n",
    "\n",
    "plt.figure()\n",
    "plt.plot(range(0,10), ans_two[0], label='training R2 score')\n",
    "plt.plot(range(0,10), ans_two[1], label='testing R2 score')\n",
    "plt.legend(loc=4)\n"
   ]
  },
  {
   "cell_type": "code",
   "execution_count": 17,
   "metadata": {},
   "outputs": [],
   "source": [
    "def answer_three():\n",
    "    \n",
    "\n",
    "\n",
    "    return (0,10,7)"
   ]
  },
  {
   "cell_type": "markdown",
   "metadata": {},
   "source": [
    "### Question 4\n",
    "\n",
    "Training models on high degree polynomial features can result in overly complex models that overfit, so we often use regularized versions of the model to constrain model complexity, as we saw with Ridge and Lasso linear regression.\n",
    "\n",
    "For this question, train two models: a non-regularized LinearRegression model (default parameters) and a regularized Lasso Regression model (with parameters `alpha=0.01`, `max_iter=10000`) both on polynomial features of degree 12. Return the $R^2$ score for both the LinearRegression and Lasso model's test sets.\n",
    "\n",
    "*This function should return one tuple `(LinearRegression_R2_test_score, Lasso_R2_test_score)`*"
   ]
  },
  {
   "cell_type": "code",
   "execution_count": 4,
   "metadata": {},
   "outputs": [
    {
     "name": "stdout",
     "output_type": "stream",
     "text": [
      "-4.312001797698648\n",
      "0.8406625614750249\n"
     ]
    },
    {
     "name": "stderr",
     "output_type": "stream",
     "text": [
      "/home/savan/.local/lib/python3.10/site-packages/sklearn/linear_model/_coordinate_descent.py:648: ConvergenceWarning: Objective did not converge. You might want to increase the number of iterations, check the scale of the features or consider increasing regularisation. Duality gap: 3.556e-01, tolerance: 6.895e-04\n",
      "  model = cd_fast.enet_coordinate_descent(\n"
     ]
    }
   ],
   "source": [
    "from sklearn.linear_model import LinearRegression\n",
    "from sklearn.linear_model import Lasso\n",
    "from sklearn.preprocessing import PolynomialFeatures\n",
    "from sklearn.metrics import r2_score\n",
    "\n",
    "X_train_4 = X_train[:, np.newaxis]\n",
    "X_test_4 = X_test[:, np.newaxis]\n",
    "\n",
    "# poly nomial feature with degree 12\n",
    "poly = PolynomialFeatures(degree=12)\n",
    "X_train_4_poly = poly.fit_transform(X_train_4)\n",
    "X_test_4_poly = poly.transform(X_test_4)\n",
    "\n",
    "#simple linear Regression\n",
    "linReg = LinearRegression().fit(X_train_4_poly, y_train)\n",
    "y_4_pred = linReg.predict(X_test_4_poly);\n",
    "y_4_r2_score = r2_score(y_test, y_4_pred)\n",
    "\n",
    "#Lasso regression with regulization\n",
    "lassoReg = Lasso(alpha=0.01, max_iter=10000)\n",
    "lassoReg.fit(X_train_4_poly, y_train)\n",
    "y_4_pred_lasso = lassoReg.predict(X_test_4_poly);\n",
    "y_4_r2_score_lasso =r2_score(y_test, y_4_pred_lasso)\n",
    "\n",
    "print(y_4_r2_score)\n",
    "print(y_4_r2_score_lasso)"
   ]
  },
  {
   "cell_type": "code",
   "execution_count": 6,
   "metadata": {},
   "outputs": [
    {
     "name": "stderr",
     "output_type": "stream",
     "text": [
      "/home/savan/.local/lib/python3.10/site-packages/sklearn/linear_model/_coordinate_descent.py:648: ConvergenceWarning: Objective did not converge. You might want to increase the number of iterations, check the scale of the features or consider increasing regularisation. Duality gap: 3.556e-01, tolerance: 6.895e-04\n",
      "  model = cd_fast.enet_coordinate_descent(\n"
     ]
    },
    {
     "data": {
      "text/plain": [
       "(-4.312001797698648, 0.8406625614750249)"
      ]
     },
     "execution_count": 6,
     "metadata": {},
     "output_type": "execute_result"
    }
   ],
   "source": [
    "def answer_four():\n",
    "    from sklearn.preprocessing import PolynomialFeatures\n",
    "    from sklearn.linear_model import Lasso, LinearRegression\n",
    "    from sklearn.metrics import r2_score\n",
    "\n",
    "    X_train_4 = X_train[:, np.newaxis]\n",
    "    X_test_4 = X_test[:, np.newaxis]\n",
    "\n",
    "    # poly nomial feature with degree 12\n",
    "    poly = PolynomialFeatures(degree=12)\n",
    "    X_train_4_poly = poly.fit_transform(X_train_4)\n",
    "    X_test_4_poly = poly.transform(X_test_4)\n",
    "\n",
    "    #simple linear Regression\n",
    "    linReg = LinearRegression().fit(X_train_4_poly, y_train)\n",
    "    y_4_pred = linReg.predict(X_test_4_poly);\n",
    "    y_4_r2_score = r2_score(y_test, y_4_pred)\n",
    "\n",
    "    #Lasso regression with regulization\n",
    "    lassoReg = Lasso(alpha=0.01, max_iter=10000)\n",
    "    lassoReg.fit(X_train_4_poly, y_train)\n",
    "    y_4_pred_lasso = lassoReg.predict(X_test_4_poly);\n",
    "    y_4_r2_score_lasso =r2_score(y_test, y_4_pred_lasso)\n",
    "\n",
    "    return (y_4_r2_score, y_4_r2_score_lasso)\n",
    "\n",
    "    \n",
    "answer_four()"
   ]
  },
  {
   "cell_type": "markdown",
   "metadata": {},
   "source": [
    "## Part 2 - Classification\n",
    "\n",
    "Here's an application of machine learning that could save your life! For this section of the assignment we will be working with the [UCI Mushroom Data Set](http://archive.ics.uci.edu/ml/datasets/Mushroom?ref=datanews.io) stored in `readonly/mushrooms.csv`. The data will be used to train a model to predict whether or not a mushroom is poisonous. The following attributes are provided:\n",
    "\n",
    "*Attribute Information:*\n",
    "\n",
    "1. cap-shape: bell=b, conical=c, convex=x, flat=f, knobbed=k, sunken=s \n",
    "2. cap-surface: fibrous=f, grooves=g, scaly=y, smooth=s \n",
    "3. cap-color: brown=n, buff=b, cinnamon=c, gray=g, green=r, pink=p, purple=u, red=e, white=w, yellow=y \n",
    "4. bruises?: bruises=t, no=f \n",
    "5. odor: almond=a, anise=l, creosote=c, fishy=y, foul=f, musty=m, none=n, pungent=p, spicy=s \n",
    "6. gill-attachment: attached=a, descending=d, free=f, notched=n \n",
    "7. gill-spacing: close=c, crowded=w, distant=d \n",
    "8. gill-size: broad=b, narrow=n \n",
    "9. gill-color: black=k, brown=n, buff=b, chocolate=h, gray=g, green=r, orange=o, pink=p, purple=u, red=e, white=w, yellow=y \n",
    "10. stalk-shape: enlarging=e, tapering=t \n",
    "11. stalk-root: bulbous=b, club=c, cup=u, equal=e, rhizomorphs=z, rooted=r, missing=? \n",
    "12. stalk-surface-above-ring: fibrous=f, scaly=y, silky=k, smooth=s \n",
    "13. stalk-surface-below-ring: fibrous=f, scaly=y, silky=k, smooth=s \n",
    "14. stalk-color-above-ring: brown=n, buff=b, cinnamon=c, gray=g, orange=o, pink=p, red=e, white=w, yellow=y \n",
    "15. stalk-color-below-ring: brown=n, buff=b, cinnamon=c, gray=g, orange=o, pink=p, red=e, white=w, yellow=y \n",
    "16. veil-type: partial=p, universal=u \n",
    "17. veil-color: brown=n, orange=o, white=w, yellow=y \n",
    "18. ring-number: none=n, one=o, two=t \n",
    "19. ring-type: cobwebby=c, evanescent=e, flaring=f, large=l, none=n, pendant=p, sheathing=s, zone=z \n",
    "20. spore-print-color: black=k, brown=n, buff=b, chocolate=h, green=r, orange=o, purple=u, white=w, yellow=y \n",
    "21. population: abundant=a, clustered=c, numerous=n, scattered=s, several=v, solitary=y \n",
    "22. habitat: grasses=g, leaves=l, meadows=m, paths=p, urban=u, waste=w, woods=d\n",
    "\n",
    "<br>\n",
    "\n",
    "The data in the mushrooms dataset is currently encoded with strings. These values will need to be encoded to numeric to work with sklearn. We'll use pd.get_dummies to convert the categorical variables into indicator variables. "
   ]
  },
  {
   "cell_type": "code",
   "execution_count": 2,
   "metadata": {},
   "outputs": [
    {
     "name": "stdout",
     "output_type": "stream",
     "text": [
      "(8124, 23)\n",
      "(8124, 119)\n",
      "(8124, 117)\n",
      "(8124,)\n"
     ]
    }
   ],
   "source": [
    "import pandas as pd\n",
    "import numpy as np\n",
    "from sklearn.model_selection import train_test_split\n",
    "\n",
    "mush_df = pd.read_csv('../week1/refereneces/Files_all/Files/home/jovyan/work/readonly/mushrooms.csv')\n",
    "mush_df2 = pd.get_dummies(mush_df)\n",
    "# print(mush_df2.head())\n",
    "print(mush_df.shape)\n",
    "print(mush_df2.shape)\n",
    "\n",
    "X_mush = mush_df2.iloc[:, 2:]\n",
    "y_mush = mush_df2.iloc[:, 1]\n",
    "print(X_mush.shape)\n",
    "print(y_mush.shape)\n",
    "\n",
    "X_train2, X_test2, y_train2, y_test2 = train_test_split(X_mush, y_mush)\n",
    "\n",
    "X_subset = X_test2\n",
    "y_subset = y_test2\n"
   ]
  },
  {
   "cell_type": "markdown",
   "metadata": {},
   "source": [
    "### Question 5\n",
    "\n",
    "Using `X_train2` and `y_train2` from the preceeding cell, train a DecisionTreeClassifier with default parameters and random_state=0. What are the 5 most important features found by the decision tree?\n",
    "\n",
    "As a reminder, the feature names are available in the `X_train2.columns` property, and the order of the features in `X_train2.columns` matches the order of the feature importance values in the classifier's `feature_importances_` property. \n",
    "\n",
    "*This function should return a list of length 5 containing the feature names in descending order of importance.*\n",
    "\n",
    "*Note: remember that you also need to set random_state in the DecisionTreeClassifier.*"
   ]
  },
  {
   "cell_type": "code",
   "execution_count": 71,
   "metadata": {},
   "outputs": [
    {
     "name": "stdout",
     "output_type": "stream",
     "text": [
      "['odor_n', 'stalk-root_c', 'stalk-root_r', 'spore-print-color_r', 'odor_l']\n"
     ]
    }
   ],
   "source": [
    "# import decesionTreeClassifier from sklearn\n",
    "from sklearn.tree import DecisionTreeClassifier\n",
    "\n",
    "decesionTreeModel = DecisionTreeClassifier(random_state=0)\n",
    "\n",
    "decesionTreeModel.fit(X_train2, y_train2)\n",
    "\n",
    "most_features_frame = pd.DataFrame(data=decesionTreeModel.feature_importances_, columns=['importance'], index=X_train2.columns).sort_values(by=['importance'],ascending=False)\n",
    "\n",
    "# print(most_features_frame)\n",
    "top_5_feature = most_features_frame.index[:5]\n",
    "top_5_feature_list = [i for i in top_5_feature]\n",
    "print(top_5_feature_list)"
   ]
  },
  {
   "cell_type": "code",
   "execution_count": 73,
   "metadata": {},
   "outputs": [
    {
     "data": {
      "text/plain": [
       "['odor_n', 'stalk-root_c', 'stalk-root_r', 'spore-print-color_r', 'odor_l']"
      ]
     },
     "execution_count": 73,
     "metadata": {},
     "output_type": "execute_result"
    }
   ],
   "source": [
    "def answer_five():\n",
    "    from sklearn.tree import DecisionTreeClassifier\n",
    "\n",
    "    decesionTreeModel = DecisionTreeClassifier(random_state=0)\n",
    "    decesionTreeModel.fit(X_train2, y_train2)\n",
    "    most_features_frame = pd.DataFrame(data=decesionTreeModel.feature_importances_, columns=['importance'], index=X_train2.columns).sort_values(by=['importance'],ascending=False)\n",
    "\n",
    "    top_5_feature = most_features_frame.index[:5]\n",
    "    top_5_feature_list = [i for i in top_5_feature]\n",
    "\n",
    "    return top_5_feature_list\n",
    "    \n",
    "answer_five()"
   ]
  },
  {
   "cell_type": "markdown",
   "metadata": {},
   "source": [
    "### Question 6\n",
    "\n",
    "For this question, we're going to use the `validation_curve` function in `sklearn.model_selection` to determine training and test scores for a Support Vector Cla\n",
    "ssifier (`SVC`) with varying parameter values.  Recall that the validation_curve function, in addition to taking an initialized unfitted classifier object, takes a dataset as input and does its own internal train-test splits to compute results.\n",
    "\n",
    "**Because creating a validation curve requires fitting multiple models, for performance reasons this question will use just a subset of the original mushroom dataset: please use the variables X_subset and y_subset as input to the validation curve function (instead of X_mush and y_mush) to reduce computation time.**\n",
    "\n",
    "The initialized unfitted classifier object we'll be using is a Support Vector Classifier with radial basis kernel.  So your first step is to create an `SVC` object with default parameters (i.e. `kernel='rbf', C=1`) and `random_state=0`. Recall that the kernel width of the RBF kernel is controlled using the `gamma` parameter.  \n",
    "\n",
    "With this classifier, and the dataset in X_subset, y_subset, explore the effect of `gamma` on classifier accuracy by using the `validation_curve` function to find the training and test scores for 6 values of `gamma` from `0.0001` to `10` (i.e. `np.logspace(-4,1,6)`). Recall that you can specify what scoring metric you want validation_curve to use by setting the \"scoring\" parameter.  In this case, we want to use \"accuracy\" as the scoring metric.\n",
    "\n",
    "For each level of `gamma`, `validation_curve` will fit 3 models on different subsets of the data, returning two 6x3 (6 levels of gamma x 3 fits per level) arrays of the scores for the training and test sets.\n",
    "\n",
    "Find the mean score across the three models for each level of `gamma` for both arrays, creating two arrays of length 6, and return a tuple with the two arrays.\n",
    "\n",
    "e.g.\n",
    "\n",
    "if one of your array of scores is\n",
    "\n",
    "    array([[ 0.5,  0.4,  0.6],\n",
    "           [ 0.7,  0.8,  0.7],\n",
    "           [ 0.9,  0.8,  0.8],\n",
    "           [ 0.8,  0.7,  0.8],\n",
    "           [ 0.7,  0.6,  0.6],\n",
    "           [ 0.4,  0.6,  0.5]])\n",
    "       \n",
    "it should then become\n",
    "\n",
    "    array([ 0.5,  0.73333333,  0.83333333,  0.76666667,  0.63333333, 0.5])\n",
    "\n",
    "*This function should return one tuple of numpy arrays `(training_scores, test_scores)` where each array in the tuple has shape `(6,)`.*"
   ]
  },
  {
   "cell_type": "code",
   "execution_count": 17,
   "metadata": {},
   "outputs": [
    {
     "name": "stdout",
     "output_type": "stream",
     "text": [
      "[[0.93366661 0.93027929 0.92738277]\n",
      " [0.93366661 0.93027929 0.92738277]\n",
      " [0.93366654 0.93027912 0.92738267]\n",
      " [0.93102682 0.92659679 0.92435817]\n",
      " [0.46097345 0.44232926 0.44720932]]\n",
      "[[0.92195542 0.92151528 0.92976117]\n",
      " [0.92195541 0.92151538 0.9297612 ]\n",
      " [0.92195219 0.92154696 0.92976801]\n",
      " [0.92013808 0.91870747 0.92746097]\n",
      " [0.4444265  0.35950324 0.40397856]]\n",
      "[1.e-04 1.e-03 1.e-02 1.e-01 1.e+00 1.e+01]\n"
     ]
    }
   ],
   "source": [
    "import numpy as np\n",
    "from sklearn.model_selection import validation_curve\n",
    "from sklearn.datasets import load_iris\n",
    "from sklearn.linear_model import Ridge\n",
    "\n",
    "X, y = load_iris(return_X_y=True)\n",
    "# print(X)\n",
    "# print(y)\n",
    "\n",
    "indices = np.arange(y.shape[0])\n",
    "# print(\"---------------------------\")\n",
    "# print(indices)\n",
    "\n",
    "np.random.shuffle(indices)\n",
    "# print(indices)\n",
    "\n",
    "X, y = X[indices], y[indices]\n",
    "\n",
    "train_score, valid_score = validation_curve(\n",
    "    Ridge(), X, y, param_name=\"alpha\", param_range=np.logspace(-7, 3, 5),\n",
    "    cv=3\n",
    ")\n",
    "\n",
    "print(train_score)\n",
    "print(valid_score)\n",
    "\n",
    "print(np.logspace(-4,1,6))\n"
   ]
  },
  {
   "cell_type": "code",
   "execution_count": 20,
   "metadata": {},
   "outputs": [],
   "source": [
    "from sklearn.svm import SVC\n",
    "from sklearn.model_selection import validation_curve\n",
    "\n",
    "train_score, test_score = validation_curve(SVC(kernel='rbf', C=1, random_state=0), X_subset, y_subset, param_name='gamma', param_range=np.logspace(-4,1,6), scoring=\"accuracy\", cv=3)\n"
   ]
  },
  {
   "cell_type": "code",
   "execution_count": 79,
   "metadata": {},
   "outputs": [
    {
     "name": "stdout",
     "output_type": "stream",
     "text": [
      "[0.61201379 0.92589857 0.99089119 1.         1.         1.        ]\n",
      "[0.60659774 0.92516002 0.98966027 0.99803053 0.99359921 0.51304776]\n"
     ]
    }
   ],
   "source": [
    "#find mean of train_score\n",
    "train_mean = np.mean(train_score, axis=1)\n",
    "test_mean = np.mean(test_score, axis=1)\n",
    "\n",
    "print(train_mean)\n",
    "print(test_mean)"
   ]
  },
  {
   "cell_type": "code",
   "execution_count": 80,
   "metadata": {},
   "outputs": [],
   "source": [
    "def answer_six():\n",
    "    from sklearn.svm import SVC\n",
    "    from sklearn.model_selection import validation_curve\n",
    "\n",
    "    train_score, test_score = validation_curve(SVC(kernel='rbf', C=1, random_state=0), X_subset, y_subset, param_name='gamma', param_range=np.logspace(-4,1,6), scoring=\"accuracy\", cv=3)\n",
    "    train_mean = np.mean(train_score, axis=1)\n",
    "    test_mean = np.mean(test_score, axis=1)\n",
    "\n",
    "    return (train_mean, test_mean)"
   ]
  },
  {
   "cell_type": "markdown",
   "metadata": {},
   "source": [
    "### Question 7\n",
    "\n",
    "Based on the scores from question 6, what gamma value corresponds to a model that is underfitting (and has the worst test set accuracy)? What gamma value corresponds to a model that is overfitting (and has the worst test set accuracy)? What choice of gamma would be the best choice for a model with good generalization performance on this dataset (high accuracy on both training and test set)? \n",
    "\n",
    "Hint: Try plotting the scores from question 6 to visualize the relationship between gamma and accuracy. Remember to comment out the import matplotlib line before submission.\n",
    "\n",
    "*This function should return one tuple with the degree values in this order: `(Underfitting, Overfitting, Good_Generalization)` Please note there is only one correct solution.*"
   ]
  },
  {
   "cell_type": "markdown",
   "metadata": {},
   "source": [
    "plot the visulization graph with gama and validation curve cross fold result"
   ]
  },
  {
   "cell_type": "code",
   "execution_count": 82,
   "metadata": {},
   "outputs": [
    {
     "data": {
      "text/plain": [
       "<matplotlib.legend.Legend at 0x7f86ff7c5930>"
      ]
     },
     "execution_count": 82,
     "metadata": {},
     "output_type": "execute_result"
    },
    {
     "data": {
      "image/png": "[encoded data removed]",
      "text/plain": [
       "<Figure size 432x288 with 1 Axes>"
      ]
     },
     "metadata": {
      "needs_background": "light"
     },
     "output_type": "display_data"
    }
   ],
   "source": [
    "# try to draw the plot from question 2\n",
    "import matplotlib.pyplot as plt\n",
    "%matplotlib inline\n",
    "\n",
    "train_score, test_score = answer_six()\n",
    "\n",
    "plt.figure()\n",
    "plt.plot(range(-4,2), train_score, label=\"training score\")\n",
    "plt.plot(range(-4,2), test_score, label=\"test score\")\n",
    "plt.legend(loc=4)\n"
   ]
  },
  {
   "cell_type": "code",
   "execution_count": null,
   "metadata": {},
   "outputs": [],
   "source": [
    "def answer_seven():\n",
    "    \n",
    "    # (Underfitting, Overfitting, Good_Generalization)\n",
    "    return (-4, 1, -1)"
   ]
  }
 ],
 "metadata": {
  "kernelspec": {
   "display_name": "Python 3.10.4 64-bit",
   "language": "python",
   "name": "python3"
  },
  "language_info": {
   "codemirror_mode": {
    "name": "ipython",
    "version": 3
   },
   "file_extension": ".py",
   "mimetype": "text/x-python",
   "name": "python",
   "nbconvert_exporter": "python",
   "pygments_lexer": "ipython3",
   "version": "3.10.4"
  },
  "orig_nbformat": 4,
  "vscode": {
   "interpreter": {
    "hash": "916dbcbb3f70747c44a77c7bcd40155683ae19c65e1c03b4aa3499c5328201f1"
   }
  }
 },
 "nbformat": 4,
 "nbformat_minor": 2
}
